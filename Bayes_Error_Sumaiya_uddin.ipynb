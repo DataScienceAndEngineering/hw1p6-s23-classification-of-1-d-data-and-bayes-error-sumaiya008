{
 "cells": [
  {
   "cell_type": "markdown",
   "id": "6bc43c75",
   "metadata": {},
   "source": [
    "# dsei2100s23hw1p6-Bayes-Error\n",
    "Classification of 1-D data and Bayes Error\n",
    "\n",
    "## HW1 P6: Classification of 1-D data and Bayes Error\n",
    "\n",
    "Suppose we have two populations of beans. The weights of these beans are normaly distributed, so if $\\mu$ is the mean weight of one type of beans beans and $\\sigma$ is the standard deviation, so that means that the probabilty density is given by \n",
    "    \n",
    "$$p_{\\mu,\\sigma}(x)$ = $\\frac{1}{\\sigma \\sqrt{2\\pi}}$ $e^{-\\frac{1}{2\\sigma}(x-\\mu)^2}$$\n",
    "\n",
    "and then the probabilty of measureing a weight in interval $I=[x_1,x_2]$ of bean of that type is given by\n",
    "\n",
    "$$ P_{\\mu,\\sigma}(I) = \\int^{x_2}_{x_1} p_{\\mu,\\sigma}(x) dx $$\n",
    "\n",
    "The mean weight of bean type A, $\\mu_A$ is 5 grams and the standard deviation, $\\sigma_A$, is 2. The mean weight of bean type B, $mu_B$, is 4 grams and has a standard deviation $\\sigma_B$, of  1.4.\n",
    "\n",
    "Our classifier $C_T(x)$ is determined by a weight threshold $T$:\n",
    "\n",
    "$$f\\_T(x) = -1 \\mbox{ if } x \\leq T $$\n",
    "\n",
    "$$f\\_T(x) = 1  \\mbox{ if } T < x  .$$\n",
    "\n",
    "The [*Bayes error*](https://en.wikipedia.org/wiki/Bayes_error_rate) is the probability that we will misclassify. Assume  that there are equally many beans of each type (no prior).\n",
    "\n",
    "a. For a given T write down the theoretical expression (in terms of integrals) for the probability that you will classify a point as bean type A when it is bean type B and similarly that it is bean type B when it is bean type A."
   ]
  },
  {
   "cell_type": "code",
   "execution_count": null,
   "id": "bbdae4c2",
   "metadata": {},
   "outputs": [],
   "source": []
  }
 ],
 "metadata": {
  "kernelspec": {
   "display_name": "Python 3 (ipykernel)",
   "language": "python",
   "name": "python3"
  },
  "language_info": {
   "codemirror_mode": {
    "name": "ipython",
    "version": 3
   },
   "file_extension": ".py",
   "mimetype": "text/x-python",
   "name": "python",
   "nbconvert_exporter": "python",
   "pygments_lexer": "ipython3",
   "version": "3.10.4"
  }
 },
 "nbformat": 4,
 "nbformat_minor": 5
}
